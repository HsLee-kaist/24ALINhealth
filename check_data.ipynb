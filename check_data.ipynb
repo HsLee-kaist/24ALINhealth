{
 "cells": [
  {
   "cell_type": "code",
   "execution_count": 1,
   "metadata": {},
   "outputs": [],
   "source": [
    "import json"
   ]
  },
  {
   "cell_type": "code",
   "execution_count": 5,
   "metadata": {},
   "outputs": [],
   "source": [
    "with open('ehrsql-2024/sample_data/train/data.json') as f:\n",
    "    x = json.load(f)\n",
    "with open('ehrsql-2024/sample_data/train/answer.json') as f:\n",
    "    y = json.load(f)\n",
    "with open('ehrsql-2024/sample_data/train/label.json') as f:\n",
    "    z = json.load(f)"
   ]
  },
  {
   "cell_type": "code",
   "execution_count": 24,
   "metadata": {},
   "outputs": [
    {
     "data": {
      "text/plain": [
       "('Tell me the top four most common diagnoses for patients aged 30s.',\n",
       " \"[['accidental fall on or from other stairs or steps'], ['alcohol abuse, uncomplicated'], ['alcohol withdrawal delirium'], ['assault by unarmed brawl or fight, initial encounter'], ['candidiasis of mouth'], ['contusion of other intra-abdominal organs, initial encounter'], ['diabetes mellitus without mention of complication, type ii or unspecified type, not stated as uncontrolled'], ['dislocation of jaw, initial encounter'], ['dysphagia, unspecified'], ['encephalopathy, unspecified'], ['fracture of subcondylar process of mandible, initial encounter for closed fracture'], ['hyposmolality and/or hyponatremia'], ['laceration of intercostal blood vessels, left side, initial encounter'], ['other and unspecified alcohol dependence, unspecified'], ['other and unspecified cerebral laceration and contusion, without mention of open intracranial wound, with loss of consciousness of unspecified duration'], ['pneumonitis due to inhalation of food or vomitus'], ['retention of urine, unspecified'], ['unspecified essential hypertension']]\",\n",
       " ' SELECT d_icd_diagnoses.long_title FROM d_icd_diagnoses WHERE d_icd_diagnoses.icd_code IN ( SELECT T1.icd_code FROM ( SELECT diagnoses_icd.icd_code, DENSE_RANK() OVER ( ORDER BY COUNT(*) DESC ) AS C1 FROM diagnoses_icd WHERE diagnoses_icd.hadm_id IN ( SELECT admissions.hadm_id FROM admissions WHERE admissions.age BETWEEN 30 AND 39 ) GROUP BY diagnoses_icd.icd_code ) AS T1 WHERE T1.C1 <= 4 )')"
      ]
     },
     "execution_count": 24,
     "metadata": {},
     "output_type": "execute_result"
    }
   ],
   "source": [
    "i=7\n",
    "x['data'][i]['question'], y[x['data'][i]['id']], z[x['data'][i]['id']]"
   ]
  },
  {
   "cell_type": "code",
   "execution_count": 26,
   "metadata": {},
   "outputs": [
    {
     "data": {
      "text/plain": [
       "1167"
      ]
     },
     "execution_count": 26,
     "metadata": {},
     "output_type": "execute_result"
    }
   ],
   "source": [
    "with open('/home/hyunseok/health/ehrsql-2024/data/mimic_iv/test/data.json') as f:\n",
    "    x = json.load(f)\n",
    "len(x['data'])"
   ]
  }
 ],
 "metadata": {
  "kernelspec": {
   "display_name": "base",
   "language": "python",
   "name": "python3"
  },
  "language_info": {
   "codemirror_mode": {
    "name": "ipython",
    "version": 3
   },
   "file_extension": ".py",
   "mimetype": "text/x-python",
   "name": "python",
   "nbconvert_exporter": "python",
   "pygments_lexer": "ipython3",
   "version": "3.11.7"
  }
 },
 "nbformat": 4,
 "nbformat_minor": 2
}
