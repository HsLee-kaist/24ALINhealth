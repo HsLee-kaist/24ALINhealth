{
 "cells": [
  {
   "cell_type": "code",
   "execution_count": 1,
   "metadata": {},
   "outputs": [],
   "source": [
    "import sqlite3"
   ]
  },
  {
   "cell_type": "code",
   "execution_count": 2,
   "metadata": {},
   "outputs": [],
   "source": [
    "db_path = '/home/hyunseok/health/ehrsql-2024/data/mimic_iv/mimic_iv.sqlite'\n",
    "con = sqlite3.connect(db_path)"
   ]
  },
  {
   "cell_type": "code",
   "execution_count": 3,
   "metadata": {},
   "outputs": [],
   "source": [
    "cur = con.cursor()"
   ]
  },
  {
   "cell_type": "code",
   "execution_count": 48,
   "metadata": {},
   "outputs": [
    {
     "name": "stdout",
     "output_type": "stream",
     "text": [
      "[(0.9333333333333333,)]\n"
     ]
    }
   ],
   "source": [
    "res = cur.execute('''\n",
    "    WITH PatientAge AS (\n",
    "    SELECT DISTINCT\n",
    "        age\n",
    "    FROM\n",
    "        admissions\n",
    "    WHERE\n",
    "        subject_id = 10026406\n",
    "    ORDER BY\n",
    "        admittime\n",
    "    LIMIT 1\n",
    "),\n",
    "RBCResults AS (\n",
    "    SELECT DISTINCT\n",
    "        l.valuenum\n",
    "    FROM\n",
    "        labevents l\n",
    "    JOIN\n",
    "        admissions a ON l.hadm_id = a.hadm_id\n",
    "    JOIN\n",
    "        d_labitems dli ON l.itemid = dli.itemid\n",
    "    WHERE\n",
    "        LOWER(dli.label) = 'red blood cells'\n",
    "    AND\n",
    "        a.age = (SELECT age FROM PatientAge)\n",
    "),\n",
    "PercentileCalc AS (\n",
    "    SELECT DISTINCT\n",
    "        (COUNT(*) FILTER (WHERE valuenum <= 4.46) * 1.0) / COUNT(*) AS percentile\n",
    "    FROM\n",
    "        RBCResults\n",
    ")\n",
    "SELECT\n",
    "    percentile\n",
    "FROM\n",
    "    PercentileCalc;\n",
    "''')\n",
    "print(res.fetchall())"
   ]
  },
  {
   "cell_type": "code",
   "execution_count": 23,
   "metadata": {},
   "outputs": [
    {
     "data": {
      "text/plain": [
       "[('patients',),\n",
       " ('admissions',),\n",
       " ('d_icd_diagnoses',),\n",
       " ('d_icd_procedures',),\n",
       " ('d_labitems',),\n",
       " ('d_items',),\n",
       " ('diagnoses_icd',),\n",
       " ('procedures_icd',),\n",
       " ('labevents',),\n",
       " ('prescriptions',),\n",
       " ('cost',),\n",
       " ('chartevents',),\n",
       " ('inputevents',),\n",
       " ('outputevents',),\n",
       " ('microbiologyevents',),\n",
       " ('icustays',),\n",
       " ('transfers',)]"
      ]
     },
     "execution_count": 23,
     "metadata": {},
     "output_type": "execute_result"
    }
   ],
   "source": []
  },
  {
   "cell_type": "code",
   "execution_count": 50,
   "metadata": {},
   "outputs": [
    {
     "name": "stdout",
     "output_type": "stream",
     "text": [
      "[(3,)]\n"
     ]
    }
   ],
   "source": [
    "res = cur.execute('''SELECT\n",
    "    COUNT(*) AS artificial_tear_ointment_count\n",
    "FROM\n",
    "    prescriptions\n",
    "WHERE\n",
    "    LOWER(drug) = 'artificial tear ointment';\n",
    "''')\n",
    "print(res.fetchall())"
   ]
  },
  {
   "cell_type": "code",
   "execution_count": null,
   "metadata": {},
   "outputs": [],
   "source": []
  },
  {
   "cell_type": "code",
   "execution_count": null,
   "metadata": {},
   "outputs": [],
   "source": [
    "con.close()"
   ]
  }
 ],
 "metadata": {
  "kernelspec": {
   "display_name": "base",
   "language": "python",
   "name": "python3"
  },
  "language_info": {
   "codemirror_mode": {
    "name": "ipython",
    "version": 3
   },
   "file_extension": ".py",
   "mimetype": "text/x-python",
   "name": "python",
   "nbconvert_exporter": "python",
   "pygments_lexer": "ipython3",
   "version": "3.11.7"
  }
 },
 "nbformat": 4,
 "nbformat_minor": 2
}
